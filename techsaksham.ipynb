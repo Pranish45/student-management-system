{
 "cells": [
  {
   "cell_type": "code",
   "execution_count": 1,
   "id": "86f60616-18b3-4c8c-9561-afe22137d514",
   "metadata": {},
   "outputs": [
    {
     "name": "stdout",
     "output_type": "stream",
     "text": [
      "\n",
      "Student Record Management System\n",
      "1. Add Student\n",
      "2. View Students\n",
      "3. Search Student\n",
      "4. Update Student\n",
      "5. Delete Student\n",
      "6. Exit\n"
     ]
    },
    {
     "name": "stdin",
     "output_type": "stream",
     "text": [
      "Enter your choice:  1\n",
      "Enter student's name:  Ram Singh\n",
      "Enter student's roll number:  10\n",
      "Enter student's age:  20\n"
     ]
    },
    {
     "name": "stdout",
     "output_type": "stream",
     "text": [
      "Student Ram Singh added successfully.\n",
      "\n",
      "Student Record Management System\n",
      "1. Add Student\n",
      "2. View Students\n",
      "3. Search Student\n",
      "4. Update Student\n",
      "5. Delete Student\n",
      "6. Exit\n"
     ]
    },
    {
     "name": "stdin",
     "output_type": "stream",
     "text": [
      "Enter your choice:  2\n"
     ]
    },
    {
     "name": "stdout",
     "output_type": "stream",
     "text": [
      "\n",
      "Student Records:\n",
      "Name: Ram Singh, Roll No: 10, Age: 20\n",
      "\n",
      "Student Record Management System\n",
      "1. Add Student\n",
      "2. View Students\n",
      "3. Search Student\n",
      "4. Update Student\n",
      "5. Delete Student\n",
      "6. Exit\n"
     ]
    },
    {
     "name": "stdin",
     "output_type": "stream",
     "text": [
      "Enter your choice:  3\n",
      "Enter the name of the student to search:  Ram Singh\n"
     ]
    },
    {
     "name": "stdout",
     "output_type": "stream",
     "text": [
      "Found Student - Name: Ram Singh, Roll No: 10, Age: 20\n",
      "\n",
      "Student Record Management System\n",
      "1. Add Student\n",
      "2. View Students\n",
      "3. Search Student\n",
      "4. Update Student\n",
      "5. Delete Student\n",
      "6. Exit\n"
     ]
    },
    {
     "name": "stdin",
     "output_type": "stream",
     "text": [
      "Enter your choice:  4\n",
      "Enter the roll number of the student to update:  10\n",
      "Enter new name for Ram Singh (Leave blank to keep the current name):  Ramlal Singh\n",
      "Enter new age for 20 (Leave blank to keep the current age):  \n"
     ]
    },
    {
     "name": "stdout",
     "output_type": "stream",
     "text": [
      "Student 10's record updated successfully.\n",
      "\n",
      "Student Record Management System\n",
      "1. Add Student\n",
      "2. View Students\n",
      "3. Search Student\n",
      "4. Update Student\n",
      "5. Delete Student\n",
      "6. Exit\n"
     ]
    },
    {
     "name": "stdin",
     "output_type": "stream",
     "text": [
      "Enter your choice:  2\n"
     ]
    },
    {
     "name": "stdout",
     "output_type": "stream",
     "text": [
      "\n",
      "Student Records:\n",
      "Name: Ramlal Singh, Roll No: 10, Age: 20\n",
      "\n",
      "Student Record Management System\n",
      "1. Add Student\n",
      "2. View Students\n",
      "3. Search Student\n",
      "4. Update Student\n",
      "5. Delete Student\n",
      "6. Exit\n"
     ]
    },
    {
     "name": "stdin",
     "output_type": "stream",
     "text": [
      "Enter your choice:  6\n"
     ]
    },
    {
     "name": "stdout",
     "output_type": "stream",
     "text": [
      "Exiting the system.\n"
     ]
    }
   ],
   "source": [
    "# List to hold student records\n",
    "students = []\n",
    "\n",
    "# Function to display the menu\n",
    "def display_menu():\n",
    "    print(\"\\nStudent Record Management System\")\n",
    "    print(\"1. Add Student\")\n",
    "    print(\"2. View Students\")\n",
    "    print(\"3. Search Student\")\n",
    "    print(\"4. Update Student\")\n",
    "    print(\"5. Delete Student\")\n",
    "    print(\"6. Exit\")\n",
    "\n",
    "# Function to add a student\n",
    "def add_student():\n",
    "    name = input(\"Enter student's name: \")\n",
    "    roll_no = input(\"Enter student's roll number: \")\n",
    "    age = input(\"Enter student's age: \")\n",
    "    \n",
    "    # Add student to the list (as a dictionary)\n",
    "    students.append({\n",
    "        'name': name,\n",
    "        'roll_no': roll_no,\n",
    "        'age': age\n",
    "    })\n",
    "    print(f\"Student {name} added successfully.\")\n",
    "\n",
    "# Function to view all students\n",
    "def view_students():\n",
    "    if len(students) == 0:\n",
    "        print(\"No student records found.\")\n",
    "    else:\n",
    "        print(\"\\nStudent Records:\")\n",
    "        for student in students:\n",
    "            print(f\"Name: {student['name']}, Roll No: {student['roll_no']}, Age: {student['age']}\")\n",
    "\n",
    "# Function to search for a student by name\n",
    "def search_student():\n",
    "    name = input(\"Enter the name of the student to search: \")\n",
    "    found = False\n",
    "    for student in students:\n",
    "        if student['name'].lower() == name.lower():\n",
    "            print(f\"Found Student - Name: {student['name']}, Roll No: {student['roll_no']}, Age: {student['age']}\")\n",
    "            found = True\n",
    "            break\n",
    "    if not found:\n",
    "        print(\"Student not found.\")\n",
    "\n",
    "# Function to update student details\n",
    "def update_student():\n",
    "    roll_no = input(\"Enter the roll number of the student to update: \")\n",
    "    found = False\n",
    "    for student in students:\n",
    "        if student['roll_no'] == roll_no:\n",
    "            new_name = input(f\"Enter new name for {student['name']} (Leave blank to keep the current name): \")\n",
    "            new_age = input(f\"Enter new age for {student['age']} (Leave blank to keep the current age): \")\n",
    "            \n",
    "            if new_name:\n",
    "                student['name'] = new_name\n",
    "            if new_age:\n",
    "                student['age'] = new_age\n",
    "                \n",
    "            print(f\"Student {roll_no}'s record updated successfully.\")\n",
    "            found = True\n",
    "            break\n",
    "    if not found:\n",
    "        print(\"Student not found.\")\n",
    "\n",
    "# Function to delete a student record\n",
    "def delete_student():\n",
    "    roll_no = input(\"Enter the roll number of the student to delete: \")\n",
    "    global students\n",
    "    students = [student for student in students if student['roll_no'] != roll_no]\n",
    "    print(f\"Student with roll number {roll_no} deleted successfully.\")\n",
    "\n",
    "# Main program loop\n",
    "def student_record_system():\n",
    "    while True:\n",
    "        display_menu()\n",
    "        choice = input(\"Enter your choice: \")\n",
    "        \n",
    "        if choice == '1':\n",
    "            add_student()\n",
    "        elif choice == '2':\n",
    "            view_students()\n",
    "        elif choice == '3':\n",
    "            search_student()\n",
    "        elif choice == '4':\n",
    "            update_student()\n",
    "        elif choice == '5':\n",
    "            delete_student()\n",
    "        elif choice == '6':\n",
    "            print(\"Exiting the system.\")\n",
    "            break\n",
    "        else:\n",
    "            print(\"Invalid choice. Please try again.\")\n",
    "\n",
    "# Run the system\n",
    "student_record_system()\n"
   ]
  },
  {
   "cell_type": "code",
   "execution_count": null,
   "id": "36d1c2ed-dc7f-4d5f-be09-031eebd27d03",
   "metadata": {},
   "outputs": [],
   "source": []
  },
  {
   "cell_type": "code",
   "execution_count": null,
   "id": "3dfbc26e-d511-4770-9b73-d85f5e1e766f",
   "metadata": {},
   "outputs": [],
   "source": []
  },
  {
   "cell_type": "code",
   "execution_count": null,
   "id": "28f71024-f5cc-41cb-8b12-a2d33f051c54",
   "metadata": {},
   "outputs": [],
   "source": []
  },
  {
   "cell_type": "code",
   "execution_count": null,
   "id": "21545e33-dc33-4a23-968e-fe423886195b",
   "metadata": {},
   "outputs": [],
   "source": []
  }
 ],
 "metadata": {
  "kernelspec": {
   "display_name": "Python [conda env:base] *",
   "language": "python",
   "name": "conda-base-py"
  },
  "language_info": {
   "codemirror_mode": {
    "name": "ipython",
    "version": 3
   },
   "file_extension": ".py",
   "mimetype": "text/x-python",
   "name": "python",
   "nbconvert_exporter": "python",
   "pygments_lexer": "ipython3",
   "version": "3.12.7"
  }
 },
 "nbformat": 4,
 "nbformat_minor": 5
}
